{
 "cells": [
  {
   "cell_type": "markdown",
   "metadata": {},
   "source": [
    "### Get a list of categories. List of all restaurants categorized under a particular restaurant type can be obtained using /Search \n",
    "API with Category ID as inputs"
   ]
  },
  {
   "cell_type": "code",
   "execution_count": 4,
   "metadata": {},
   "outputs": [
    {
     "name": "stdout",
     "output_type": "stream",
     "text": [
      "200\n"
     ]
    }
   ],
   "source": [
    "# imporing libraries and getting status request code wheather the data is fetched or not\n",
    "import requests\n",
    "import json\n",
    "data = {\"Accept\": \"application/json\",'user-key' : '4cadd54bed888f1b6934a4eb673b6fb2'}\n",
    "response = requests.get(\"https://developers.zomato.com/api/v2.1/categories\",headers = data)\n",
    "print(response.status_code)"
   ]
  },
  {
   "cell_type": "markdown",
   "metadata": {},
   "source": [
    "### getting categories provided by zomato resturant"
   ]
  },
  {
   "cell_type": "code",
   "execution_count": 8,
   "metadata": {},
   "outputs": [
    {
     "name": "stdout",
     "output_type": "stream",
     "text": [
      "{'categories': {'id': 1, 'name': 'Delivery'}}\n",
      "{'categories': {'id': 2, 'name': 'Dine-out'}}\n",
      "{'categories': {'id': 3, 'name': 'Nightlife'}}\n",
      "{'categories': {'id': 4, 'name': 'Catching-up'}}\n",
      "{'categories': {'id': 5, 'name': 'Takeaway'}}\n",
      "{'categories': {'id': 6, 'name': 'Cafes'}}\n",
      "{'categories': {'id': 7, 'name': 'Daily Menus'}}\n",
      "{'categories': {'id': 8, 'name': 'Breakfast'}}\n",
      "{'categories': {'id': 9, 'name': 'Lunch'}}\n",
      "{'categories': {'id': 10, 'name': 'Dinner'}}\n",
      "{'categories': {'id': 11, 'name': 'Pubs & Bars'}}\n",
      "{'categories': {'id': 13, 'name': 'Pocket Friendly Delivery'}}\n",
      "{'categories': {'id': 14, 'name': 'Clubs & Lounges'}}\n"
     ]
    }
   ],
   "source": [
    "res = response.json()\n",
    "for i in res['categories']:\n",
    "    print(i)\n"
   ]
  },
  {
   "cell_type": "markdown",
   "metadata": {},
   "source": [
    "### Find the Zomato ID and other details for a city . You can obtain the Zomato City ID in one of the following ways:\n",
    "\n",
    "### City Name in the Search Query - Returns list of cities matching the query\n",
    "### Using coordinates - Identifies the city details based on the coordinates of any location inside a city\n",
    "### If you already know the Zomato City ID, this API can be used to get other details of the city."
   ]
  },
  {
   "cell_type": "code",
   "execution_count": 40,
   "metadata": {},
   "outputs": [
    {
     "name": "stdout",
     "output_type": "stream",
     "text": [
      "id : 29\n",
      "name : Bhubaneswar\n",
      "country_id : 1\n",
      "country_name : India\n",
      "country_flag_url : https://b.zmtcdn.com/images/countries/flags/country_1.png\n",
      "should_experiment_with : 0\n",
      "has_go_out_tab : 0\n",
      "discovery_enabled : 0\n",
      "has_new_ad_format : 1\n",
      "is_state : 0\n",
      "state_id : 0\n",
      "state_name : \n",
      "state_code : \n"
     ]
    }
   ],
   "source": [
    "import requests\n",
    "import json\n",
    "data = {\"Accept\": \"application/json\",'user-key' : '4cadd54bed888f1b6934a4eb673b6fb2'}\n",
    "\n",
    "response = requests.get(\"https://developers.zomato.com/api/v2.1/cities\",params = {'q' : 'Bhubaneshwar'},headers = data)\n",
    "res = response.json()\n",
    "for i in res['location_suggestions']:\n",
    "    for j in i:\n",
    "        print(j,\":\",i[j])"
   ]
  },
  {
   "cell_type": "markdown",
   "metadata": {},
   "source": [
    "### Returns Zomato Restaurant Collections in a City. The location/City input can be provided in the following ways -\n",
    "\n",
    "### Using Zomato City ID\n",
    "### Using coordinates of any location within a city\n",
    "### List of all restaurants listed in any particular Zomato Collection can be obtained using the '/search' API with Collection\n",
    "### ID and Zomato City ID as the input\n"
   ]
  },
  {
   "cell_type": "code",
   "execution_count": 1,
   "metadata": {},
   "outputs": [
    {
     "name": "stdout",
     "output_type": "stream",
     "text": [
      "collection_id 212\n",
      "res_count 8\n",
      "image_url https://b.zmtcdn.com/data/collections/cda5618a6026b24d107c01c0a8c9e332_1608708052.jpg\n",
      "url https://www.zomato.com/akola/christmas-2020?utm_source=api_basic_user&utm_medium=api&utm_campaign=v2.1\n",
      "title Christmas Specials\n",
      "description Celebrate the festive season with some great Christmas specials\n",
      "share_url http://www.zoma.to/c-29/212\n",
      "collection_id 272\n",
      "res_count 8\n",
      "image_url https://b.zmtcdn.com/data/collections/26ac80f30915c30cb315afcdcf067fe6_1608708104.jpg\n",
      "url https://www.zomato.com/akola/new-years-eve-events?utm_source=api_basic_user&utm_medium=api&utm_campaign=v2.1\n",
      "title New Year's Specials\n",
      "description Celebrate New Year with the most luxurious way\n",
      "share_url http://www.zoma.to/c-29/272\n",
      "collection_id 1\n",
      "res_count 30\n",
      "image_url https://b.zmtcdn.com/data/collections/b53772a204429cb9b42313d6dc22bf3c_1556018415.jpg\n",
      "url https://www.zomato.com/akola/top-restaurants?utm_source=api_basic_user&utm_medium=api&utm_campaign=v2.1\n",
      "title Trending This Week\n",
      "description Most popular restaurants in town this week\n",
      "share_url http://www.zoma.to/c-29/1\n",
      "collection_id 274852\n",
      "res_count 32\n",
      "image_url https://b.zmtcdn.com/data/collections/5ac5eeae0796f422298ee67d5b66a025_1535368421.jpg\n",
      "url https://www.zomato.com/akola/great-food-no-bull?utm_source=api_basic_user&utm_medium=api&utm_campaign=v2.1\n",
      "title Great Food, No Bull\n",
      "description The hunt for the highest-rated restaurants in your city ends here\n",
      "share_url http://www.zoma.to/c-29/274852\n",
      "collection_id 40\n",
      "res_count 9\n",
      "image_url https://b.zmtcdn.com/data/collections/bc0c37f8fc87da896641714b9ef7f0b7_1575621158.jpg\n",
      "url https://www.zomato.com/akola/dessert-places?utm_source=api_basic_user&utm_medium=api&utm_campaign=v2.1\n",
      "title Sweet Tooth\n",
      "description From cookies and doughnuts to ice cream and cakes, knock yourself out with these classic and creative desserts \n",
      "share_url http://www.zoma.to/c-29/40\n",
      "collection_id 130\n",
      "res_count 17\n",
      "image_url https://b.zmtcdn.com/data/collections/982022dab9f94f927a997226fa23d414_1425298114_l.jpg\n",
      "url https://www.zomato.com/akola/all-day-dining?utm_source=api_basic_user&utm_medium=api&utm_campaign=v2.1\n",
      "title All-Day Dining\n",
      "description Breakfast, lunch and dinner all under one roof\n",
      "share_url http://www.zoma.to/c-29/130\n",
      "collection_id 75\n",
      "res_count 15\n",
      "image_url https://b.zmtcdn.com/data/collections/f9d822284b336c1eb8c3af8c42216389_1460023238.jpg\n",
      "url https://www.zomato.com/akola/best-bars-and-pubs?utm_source=api_basic_user&utm_medium=api&utm_campaign=v2.1\n",
      "title Best Bars and Pubs\n",
      "description Find the best bars & pubs in your city\n",
      "share_url http://www.zoma.to/c-29/75\n",
      "collection_id 13\n",
      "res_count 8\n",
      "image_url https://b.zmtcdn.com/data/collections/14fa741ee65b838680a95a4cd7b9faa4_1582201565.jpg\n",
      "url https://www.zomato.com/akola/rooftop?utm_source=api_basic_user&utm_medium=api&utm_campaign=v2.1\n",
      "title Rooftops\n",
      "description If you fancy a meal with a view\n",
      "share_url http://www.zoma.to/c-29/13\n",
      "collection_id 12\n",
      "res_count 7\n",
      "image_url https://b.zmtcdn.com/data/collections/cc6ea486370806c8c9b4704f0854e243_1539668755.jpg\n",
      "url https://www.zomato.com/akola/cheap-eats?utm_source=api_basic_user&utm_medium=api&utm_campaign=v2.1\n",
      "title Pocket Friendly\n",
      "description Your top options when dining on a budget\n",
      "share_url http://www.zoma.to/c-29/12\n",
      "collection_id 277\n",
      "res_count 6\n",
      "image_url https://b.zmtcdn.com/data/collections/1c0daad79bed143d6a59f67efb6fe196_1535355063.jpg\n",
      "url https://www.zomato.com/akola/best-buffet?utm_source=api_basic_user&utm_medium=api&utm_campaign=v2.1\n",
      "title Great Buffets\n",
      "description Eat to your heart's content\n",
      "share_url http://www.zoma.to/c-29/277\n",
      "collection_id 51\n",
      "res_count 7\n",
      "image_url https://b.zmtcdn.com/data/collections/ecec46ffb5bc20bebe0857c47f630fc5_1535354925.jpg\n",
      "url https://www.zomato.com/akola/biryani?utm_source=api_basic_user&utm_medium=api&utm_campaign=v2.1\n",
      "title Brilliant Biryanis\n",
      "description Hyderabadi, Kolkata, Lucknowi...the choice is yours\n",
      "share_url http://www.zoma.to/c-29/51\n",
      "collection_id 321\n",
      "res_count 5\n",
      "image_url https://b.zmtcdn.com/data/collections/f672e9556e44fe33ff47bf751639c0bd_1535356450.jpg\n",
      "url https://www.zomato.com/akola/pizza-time?utm_source=api_basic_user&utm_medium=api&utm_campaign=v2.1\n",
      "title Pizza Time!\n",
      "description The best pizza places in town\n",
      "share_url http://www.zoma.to/c-29/321\n",
      "collection_id 99\n",
      "res_count 12\n",
      "image_url https://b.zmtcdn.com/data/collections/083468dbee9b51b10b7e6d8c9f091b4f_1554892925.jpg\n",
      "url https://www.zomato.com/akola/sports-screenings?utm_source=api_basic_user&utm_medium=api&utm_campaign=v2.1\n",
      "title Live Sports Screenings\n",
      "description Catch the best sporting action live!\n",
      "share_url http://www.zoma.to/c-29/99\n",
      "collection_id 322\n",
      "res_count 7\n",
      "image_url https://b.zmtcdn.com/data/collections/9f2108bdc7661d17ff734eca6523bec6_1535369391.jpg\n",
      "url https://www.zomato.com/akola/south-indian-restaurants?utm_source=api_basic_user&utm_medium=api&utm_campaign=v2.1\n",
      "title South Indian Delights\n",
      "description A slice of the South, right here in your city. Dosas, appams, idlis and so much more.\n",
      "share_url http://www.zoma.to/c-29/322\n",
      "collection_id 304252\n",
      "res_count 10\n",
      "image_url https://b.zmtcdn.com/data/collections/c7c5210be9283c7fb6c5af51d8139062_1574929970.jpg\n",
      "url https://www.zomato.com/akola/taste-of-odisha?utm_source=api_basic_user&utm_medium=api&utm_campaign=v2.1\n",
      "title Taste Of Odisha\n",
      "description Sample the finest that Odisha has to offer\n",
      "share_url http://www.zoma.to/c-29/304252\n"
     ]
    }
   ],
   "source": [
    "import requests\n",
    "import json\n",
    "data = {\"Accept\": \"application/json\",'user-key' : '4cadd54bed888f1b6934a4eb673b6fb2'}\n",
    "para = {'city_id' : 29}\n",
    "response = requests.get(\"https://developers.zomato.com/api/v2.1/collections\",headers = data,params = para)\n",
    "res = response.json()\n",
    "for i in res['collections']:\n",
    "    for j in i['collection']:\n",
    "        print(j,i['collection'][j])"
   ]
  },
  {
   "cell_type": "markdown",
   "metadata": {},
   "source": [
    "### Fetch the cuisine_id of ‘Mexican’ cuisine using Zomato API.\n",
    "#### Print the cuisine_id.\n",
    "#### Output Format:\n",
    "#### cuisine_id"
   ]
  },
  {
   "cell_type": "code",
   "execution_count": 106,
   "metadata": {},
   "outputs": [
    {
     "name": "stdout",
     "output_type": "stream",
     "text": [
      "73\n"
     ]
    }
   ],
   "source": [
    "import requests\n",
    "import json\n",
    "data = {\"Accept\": \"application/json\",'user-key' : '4cadd54bed888f1b6934a4eb673b6fb2'}\n",
    "para = {'city_id' : 29}\n",
    "response = requests.get(\"https://developers.zomato.com/api/v2.1/cuisines\",headers = data,params = para)\n",
    "res = response.json()\n",
    "for i in res['cuisines']:\n",
    "    if (i['cuisine']['cuisine_name']=='Mexican'):\n",
    "        print(i['cuisine']['cuisine_id'])"
   ]
  },
  {
   "cell_type": "markdown",
   "metadata": {},
   "source": [
    "\n",
    "\n",
    "### Fetch the entityid and entitytype of place Connaught Place.\n",
    "### Print the entityid and entitytype,\n",
    "### Output Format:\n",
    "### entity_type entity_id"
   ]
  },
  {
   "cell_type": "code",
   "execution_count": 41,
   "metadata": {},
   "outputs": [
    {
     "name": "stdout",
     "output_type": "stream",
     "text": [
      "subzone 104\n"
     ]
    }
   ],
   "source": [
    "import requests\n",
    "import json\n",
    "data = {\"Accept\": \"application/json\",'user-key' : '4cadd54bed888f1b6934a4eb673b6fb2'}\n",
    "para = {'query' : 'Connaught '}\n",
    "response = requests.get(\"https://developers.zomato.com/api/v2.1/locations\",headers = data,params = para)\n",
    "res = response.json()\n",
    "print(res['location_suggestions'][0]['entity_type'],res['location_suggestions'][0]['entity_id'])"
   ]
  },
  {
   "cell_type": "code",
   "execution_count": 114,
   "metadata": {},
   "outputs": [
    {
     "name": "stdout",
     "output_type": "stream",
     "text": [
      "entity_type : subzone\n",
      "entity_id : 104\n",
      "title : Connaught Place, New Delhi\n",
      "latitude : 28.632832\n",
      "longitude : 77.219688\n",
      "city_id : 1\n",
      "city_name : Delhi NCR\n",
      "country_id : 1\n",
      "country_name : India\n"
     ]
    }
   ],
   "source": [
    "for i in res['location_suggestions']:\n",
    "    for j in i:\n",
    "        print(j,\":\",i[j])"
   ]
  },
  {
   "cell_type": "markdown",
   "metadata": {},
   "source": [
    "### Fetch the top 10 best-rated restaurant serving ‘Mexican’ cuisine present in Connaught Place.\n",
    "#### Print the restaurant name, user rating and restaurant id.\n",
    "#### Output Format:\n",
    "#### name_1 rating_1 id_1\n",
    "#### name_2 rating_2 id_2\n",
    "#### name_3 rating_3 id_3\n"
   ]
  },
  {
   "cell_type": "code",
   "execution_count": 8,
   "metadata": {},
   "outputs": [
    {
     "name": "stdout",
     "output_type": "stream",
     "text": [
      "Station Bar 4.6 18851371\n",
      "Farzi Cafe 4.5 18233593\n",
      "Tamasha 4.4 18238278\n",
      "Xero Degrees 4.4 18729557\n",
      "Ministry Of Beer 4.4 18418277\n",
      "Master Of Malts 4.4 18391149\n",
      "Chili's Grill & Bar 4.4 18537536\n",
      "The Junkyard Cafe 4.3 313256\n",
      "Local 4.3 18382360\n",
      "Lord Of The Drinks 4.3 312603\n"
     ]
    }
   ],
   "source": [
    "import requests\n",
    "import json\n",
    "data = {\"Accept\": \"application/json\",'user-key' : '4cadd54bed888f1b6934a4eb673b6fb2'}\n",
    "res = requests.get('https://developers.zomato.com/api/v2.1/locations',headers = data,params = {'query' : 'Connaught'})\n",
    "res = res.json() \n",
    "e_id = res['location_suggestions'][0]['entity_id']\n",
    "e_t = res['location_suggestions'][0]['entity_type']\n",
    "url = 'https://developers.zomato.com/api/v2.1/search'\n",
    "para = {'entity_id' : 104 ,'entity_type': e_t,'count' : 10 , 'cuisines' : 73,'sort' : 'rating','order' : 'desc'}\n",
    "res = requests.get(url,headers = data,params = para)\n",
    "res = res.json()\n",
    "for i in res['restaurants']:\n",
    "    print(i['restaurant']['name'],i['restaurant']['user_rating']['aggregate_rating'],i['restaurant']['R']['res_id'])"
   ]
  },
  {
   "cell_type": "markdown",
   "metadata": {},
   "source": [
    "### Fetch the category id of category type ‘Cafes’ using Zomato API.\n",
    "#### Print the category_id.\n",
    "#### Output Format:\n",
    "#### category_id"
   ]
  },
  {
   "cell_type": "code",
   "execution_count": 12,
   "metadata": {},
   "outputs": [
    {
     "name": "stdout",
     "output_type": "stream",
     "text": [
      "6\n"
     ]
    }
   ],
   "source": [
    "import requests\n",
    "import json\n",
    "data = {\"Accept\": \"application/json\",'user-key' : '4cadd54bed888f1b6934a4eb673b6fb2'}\n",
    "response = requests.get(\"https://developers.zomato.com/api/v2.1/categories\",headers = data)\n",
    "res = response.json()\n",
    "for i in res['categories']:\n",
    "    if(i['categories']['name']=='Cafes'):\n",
    "        print(i['categories']['id'])\n",
    "        break"
   ]
  },
  {
   "cell_type": "markdown",
   "metadata": {},
   "source": [
    "### Fetch the best-rated restaurant for ‘Mexican’ cuisine with category type ‘ Cafes’ present in Connaught Place using Zomato API.\n",
    "#### Print the restaurant name, user rating and restaurant id.\n",
    "#### Output Format:\n",
    "#### name_1 rating_1 id_1\n",
    "#### name_2 rating_2 id_2\n",
    "#### name_3 rating_3 id_3"
   ]
  },
  {
   "cell_type": "code",
   "execution_count": 13,
   "metadata": {},
   "outputs": [
    {
     "name": "stdout",
     "output_type": "stream",
     "text": [
      "Xero Degrees 4.4 18729557\n",
      "Chaayos - Meri Wali Chai 4.1 18237315\n",
      "The Art House Bar n Cafe 4.0 18863766\n",
      "Cafe Coffee Day - The Square 3.5 303034\n"
     ]
    }
   ],
   "source": [
    "import requests\n",
    "import json\n",
    "data = {\"Accept\": \"application/json\",'user-key' : '4cadd54bed888f1b6934a4eb673b6fb2'}\n",
    "res = requests.get('https://developers.zomato.com/api/v2.1/locations',headers = data,params = {'query' : 'Connaught'})\n",
    "res = res.json() \n",
    "e_id = res['location_suggestions'][0]['entity_id']\n",
    "e_t = res['location_suggestions'][0]['entity_type']\n",
    "url = 'https://developers.zomato.com/api/v2.1/search'\n",
    "para = {'entity_id' : 104 ,'entity_type': e_t,'count' : 10 , 'cuisines' : 73,'category': '6','sort' : 'rating','order' : 'desc'}\n",
    "res = requests.get(url,headers = data,params = para)\n",
    "res = res.json()\n",
    "for i in res['restaurants']:\n",
    "    print(i['restaurant']['name'],i['restaurant']['user_rating']['aggregate_rating'],i['restaurant']['R']['res_id'])"
   ]
  },
  {
   "cell_type": "markdown",
   "metadata": {},
   "source": [
    "### Fetch the latest review of the best-rated restaurant for ‘Mexican’ cuisine with Category type ‘Cafes’ present in Connaught Place using Zomato API.\n",
    "#### Print the name of user ,user rating and review text.\n",
    "##### Note :\n",
    "#### Due to limitation of basic API plan it, can only fetch 5 latest review\n",
    "#### Output Format:\n",
    "#### name1 user_rating1 review_text1\n",
    "#### name2 user_rating2 review_text2\n",
    "..."
   ]
  },
  {
   "cell_type": "code",
   "execution_count": 34,
   "metadata": {},
   "outputs": [
    {
     "name": "stdout",
     "output_type": "stream",
     "text": [
      "Neha Bemal 4 Fries and large shakes at its best 😍 Amazing ambience and staff behaviour We tried peri peri fries with cheeze and larger size Oreo shake and Nutella shake which was worth the price and taste. Must try.\n",
      "Rishabh ( FREAKIN FOODIES ) 5 Recently visited Xero degrees to try out there munchies and beverages. I love the taste and it was a really good experience to be there. They are providing best service with all proper hygienic requirements. Must tryout things are there beverages and tandoori fries 🍟.\n",
      "Deepali Sharma 4 \n",
      "Chatpattaindia 5 This is the best fries I have ever had till now. They are super cheesy, flavour and texture everything is just perfect!!!\n",
      "Yumyumeateries 5 I really like the outlet in terms of comfortable seating, good food & good service. The food is really fulfilling. I tried their white sauce penne pasta, baked nachos they were super cheesy & heavy, Tandoori fries were quite good, cheese pizza so yum also in shakes do try their red velvet it was really yum.  They are taking proper precautions towards covid so it’s safe to visit them.  Also kudos to a helpful staff.\n"
     ]
    }
   ],
   "source": [
    "import requests\n",
    "import json\n",
    "data = {\"Accept\": \"application/json\",'user-key' : '4cadd54bed888f1b6934a4eb673b6fb2'}\n",
    "res = requests.get('https://developers.zomato.com/api/v2.1/locations',headers = data,params = {'query' : 'Connaught'})\n",
    "res = res.json() \n",
    "e_id = res['location_suggestions'][0]['entity_id']\n",
    "e_t = res['location_suggestions'][0]['entity_type']\n",
    "url = 'https://developers.zomato.com/api/v2.1/search'\n",
    "para = {'entity_id' : 104 ,'entity_type': e_t,'count' : 1 , 'cuisines' : 73,'category': '6','sort' : 'rating','order' : 'desc'}\n",
    "res = requests.get(url,headers = data,params = para)\n",
    "res = res.json()\n",
    "r_id = []\n",
    "for i in res['restaurants']:\n",
    "    r_id.append(i['restaurant']['id'])\n",
    "for i in r_id:\n",
    "    r = requests.get('https://developers.zomato.com/api/v2.1/reviews',headers = data,params = {'res_id' : i})\n",
    "    r = r.json()\n",
    "    for j in r['user_reviews']:\n",
    "        print(j['review']['user']['name'],j['review']['rating'],j['review']['review_text'])\n",
    "\n"
   ]
  },
  {
   "cell_type": "markdown",
   "metadata": {},
   "source": [
    "### Fetch the details of \"Pa Pa Ya\" restaurant using Zomato API.\n",
    "#### Print the user rating, the average cost for two, cuisines and address of \"Pa Pa Ya\" restaurant.\n",
    "#### Output Format:\n",
    "#### user_rating\n",
    "#### average_cost_for_two\n",
    "#### cuisines\n",
    "#### address"
   ]
  },
  {
   "cell_type": "code",
   "execution_count": 60,
   "metadata": {},
   "outputs": [
    {
     "name": "stdout",
     "output_type": "stream",
     "text": [
      "4.8\n",
      "2500\n",
      "Asian, Chinese, Thai, Japanese\n",
      "A-3, Select Citywalk, District Centre, Saket, New Delhi\n"
     ]
    }
   ],
   "source": [
    "import requests\n",
    "import json\n",
    "data = {\"Accept\": \"application/json\",'user-key' : '4cadd54bed888f1b6934a4eb673b6fb2'}\n",
    "para = {'query' : 'Delhi'}\n",
    "response = requests.get(\"https://developers.zomato.com/api/v2.1/locations\",headers = data,params = para)\n",
    "res = response.json()\n",
    "entity_type = res['location_suggestions'][0]['entity_type']\n",
    "entity_id = res['location_suggestions'][0]['entity_id']\n",
    "para = {'entity_id': 1,'entity_type' : 'city','q' : 'Pa Pa Ya'}\n",
    "res = requests.get('https://developers.zomato.com/api/v2.1/search',headers = data,params = para)\n",
    "res = res.json()\n",
    "for i in res['restaurants']:\n",
    "    print(i['restaurant']['user_rating']['aggregate_rating'])\n",
    "    print(i['restaurant']['average_cost_for_two'])\n",
    "    print(i['restaurant']['cuisines'])\n",
    "    print(i['restaurant']['location']['address'])\n",
    "    break"
   ]
  },
  {
   "cell_type": "markdown",
   "metadata": {},
   "source": [
    "### Find out whether online table reservation is supported in \"Pa Pa Ya\" restaurant or not using Zomato API.\n",
    "#### Print 'yes' if online table reservation is supported else 'no'\n",
    "#### Note :\n",
    "#### In Zomato response JSON. 1=Yes and 0 = No\n",
    "#### Output Format:\n",
    "#### yes/no"
   ]
  },
  {
   "cell_type": "code",
   "execution_count": 68,
   "metadata": {},
   "outputs": [
    {
     "name": "stdout",
     "output_type": "stream",
     "text": [
      "yes\n"
     ]
    }
   ],
   "source": [
    "import requests\n",
    "import json\n",
    "data = {\"Accept\": \"application/json\",'user-key' : '4cadd54bed888f1b6934a4eb673b6fb2'}\n",
    "para = {'query' : 'Delhi'}\n",
    "response = requests.get(\"https://developers.zomato.com/api/v2.1/locations\",headers = data,params = para)\n",
    "res = response.json()\n",
    "entity_type = res['location_suggestions'][0]['entity_type']\n",
    "entity_id = res['location_suggestions'][0]['entity_id']\n",
    "para = {'entity_id': 1,'entity_type' : 'city','q' : 'Pa Pa Ya'}\n",
    "res = requests.get('https://developers.zomato.com/api/v2.1/search',headers = data,params = para)\n",
    "res = res.json()\n",
    "for i in res['restaurants']:\n",
    "    if(i['restaurant']['is_table_reservation_supported']):\n",
    "        print('yes')\n",
    "    else:\n",
    "        print('no')\n",
    "    break\n"
   ]
  },
  {
   "cell_type": "markdown",
   "metadata": {},
   "source": [
    "### Fetch the latest review of \"Pa Pa Ya\" restaurant using Zomato API.\n",
    "### Print the name of the user, user rating and review text.\n",
    "#### Note :\n",
    "#### Due to the limitation of the basic API plan, it can only fetch 5 latest review\n",
    "#### Output Format:\n",
    "#### name1 user_rating1 review_text1\n",
    "#### name2 user_rating2 review_text2\n",
    "#### name3 user_rating3 review_text3\n"
   ]
  },
  {
   "cell_type": "code",
   "execution_count": 76,
   "metadata": {},
   "outputs": [
    {
     "name": "stdout",
     "output_type": "stream",
     "text": [
      "Jessicaannlee93 5 Kudos to Vikram and the entire team for a great service. Enjoyed the food with my sisters. Katsu, Spidy Avacado and Prawan Tempura Sushi are to die for.\n",
      "Badari Mylliemngap 1 The prices are crazy expensive. Price of basic thing like water is double the MRP plus GST. Not much variety in food options\n",
      "Girish Rawat 5 It was long on my bucket list to visit the place and finally after a long wait got a chance to pay a visit. A big thanks to Karanveer who helped us in the best vegetarian options from the menu and Manish for the cocktail options.   Located at 5th floor just above Hamleys, Papaya got the perfect ambience for a fine date. With all the social distancing and safety measures we were allocated a table. We were confused at first by looking at the menu, sushi was definitely on the cards but other than that no clue. We decided togo by the manager's choice and enjoyed the lovely avocado sushi, veg dimsums and open bao.   From the bar a gin tonic cocktail with Frozen Orange slices and a all time favourite mojito to compliment the taste.  It was all boxes tick by Papaya, will recommend to everyone for an amazing authentic asian food porn. Keep up the good work guys.  Happy Eating :)\n",
      "Pranksha Rooprai 5 Loved the way vikram helped us to choose the food , on top best loved the way he helped us choose the correct food . And loved the food very nice . Dimsums👍🏻\n",
      "Ragesh 5 Best ambience, courteous service, classy place, best taste, chocolate brownies, sushi best varieties\n"
     ]
    }
   ],
   "source": [
    "import requests\n",
    "import json\n",
    "data = {\"Accept\": \"application/json\",'user-key' : '4cadd54bed888f1b6934a4eb673b6fb2'}\n",
    "para = {'query' : 'Delhi'}\n",
    "response = requests.get(\"https://developers.zomato.com/api/v2.1/locations\",headers = data,params = para)\n",
    "res = response.json()\n",
    "entity_type = res['location_suggestions'][0]['entity_type']\n",
    "entity_id = res['location_suggestions'][0]['entity_id']\n",
    "para = {'entity_id': 1,'entity_type' : 'city','q' : 'Pa Pa Ya','count' : 1}\n",
    "res = requests.get('https://developers.zomato.com/api/v2.1/search',headers = data,params = para)\n",
    "res = res.json()\n",
    "res_id = res['restaurants'][0]['restaurant']['R']['res_id']\n",
    "r = requests.get('https://developers.zomato.com/api/v2.1/reviews',headers = data,params = {'res_id' : res_id})\n",
    "r = r.json()\n",
    "for j in r['user_reviews']:\n",
    "    print(j['review']['user']['name'],j['review']['rating'],j['review']['review_text'])\n"
   ]
  },
  {
   "cell_type": "markdown",
   "metadata": {},
   "source": [
    "### Fetch the cuisine_id of of cuisine ‘BBQ’ using Zomato API.\n",
    "### Print the cuisine_id\n",
    "#### Output Format:\n",
    "#### cuisine_id"
   ]
  },
  {
   "cell_type": "code",
   "execution_count": 79,
   "metadata": {},
   "outputs": [
    {
     "name": "stdout",
     "output_type": "stream",
     "text": [
      "193\n"
     ]
    }
   ],
   "source": [
    "import requests\n",
    "import json\n",
    "data = {\"Accept\": \"application/json\",'user-key' : '4cadd54bed888f1b6934a4eb673b6fb2'}\n",
    "para = {'city_id' : 29}\n",
    "response = requests.get(\"https://developers.zomato.com/api/v2.1/cuisines\",headers = data,params = para)\n",
    "res = response.json()\n",
    "for i in res['cuisines']:\n",
    "    if (i['cuisine']['cuisine_name']=='BBQ'):\n",
    "        print(i['cuisine']['cuisine_id'])"
   ]
  },
  {
   "cell_type": "markdown",
   "metadata": {},
   "source": [
    "### Fetch the list of the top 10 restaurants serving cuisine ‘BBQ’ which are nearest to Coding Ninjas.\n",
    "#### Print the restaurant name, user rating, restaurant id and locality in which restaurant is present.\n",
    "#### Output Format:\n",
    "#### name_1 rating_1 id_1 locality_1\n",
    "#### name_2 rating_2 id_2 locality_2\n",
    "#### name_3 rating_3 id_3 locality_3\n",
    "#### . . .\n"
   ]
  },
  {
   "cell_type": "code",
   "execution_count": 2,
   "metadata": {},
   "outputs": [
    {
     "name": "stdout",
     "output_type": "stream",
     "text": [
      "Themis Barbecue House 4.3 18204820 Netaji Subhash Place\n",
      "Barbeque Nation 4.1 9561 Netaji Subhash Place\n",
      "Amazings Kitchen 0 19370424 Prashant Vihar\n",
      "Anytime Chicken 0 19520153 Shalimar Bagh\n",
      "Moet's Barbeque 0 19238917 Alipur\n",
      "UBQ by Barbeque Nation 3.3 18889760 Rohini\n",
      "Chicken Adda 0 19179179 Rohini\n",
      "7teen BBQ Bistro Bnq 3.9 18595610 Moti Nagar\n",
      "Pishori Chicken 0 19061375 Kirti Nagar\n",
      "The Rowdy Food 3.9 19501602 Tagore Garden\n"
     ]
    }
   ],
   "source": [
    "import requests\n",
    "import json\n",
    "data = {\"Accept\": \"application/json\",'user-key' : '4cadd54bed888f1b6934a4eb673b6fb2'}\n",
    "url = 'https://developers.zomato.com/api/v2.1/search'\n",
    "para = {'lat' : 28.697628,'lon': 77.140651, 'cuisines' : 193,'count' : 1,'sort' : 'real_distance','order' : 'asc'}\n",
    "res = requests.get(url,headers = data,params = para)\n",
    "res = res.json()\n",
    "for i in res['restaurants']:\n",
    "    print(i['restaurant']['name'],i['restaurant']['user_rating']['aggregate_rating'],i['restaurant']['R']['res_id'],i['restaurant']['location']['locality'])\n",
    "\n"
   ]
  },
  {
   "cell_type": "markdown",
   "metadata": {},
   "source": [
    "### Fetch the latest review of the restaurant serving cuisine ‘BBQ’ which is most nearest to Coding ninjas?\n",
    "#### Print the name of user ,user rating and review text.\n",
    "#### Note :\n",
    "#### Due to limitation of basic API plan it, can only fetch 5 latest review\n",
    "#### Output Format:\n",
    "#### name1 user_rating1 review_text1\n",
    "#### name2 user_rating2 review_text2\n",
    "#### name3 user_rating3 review_text3\n",
    "#### name4 user_rating4 review_text4\n",
    "#### name5 user_rating5 review_text5\n"
   ]
  },
  {
   "cell_type": "code",
   "execution_count": 28,
   "metadata": {},
   "outputs": [
    {
     "name": "stdout",
     "output_type": "stream",
     "text": [
      "Aakriti Chandna 5 Had visited this place for a nice lunch buffet and thoroughly enjoyed everything from starters specially fish starter and salsa potatoes to main course to desserts... loved their dal makhani to the core... a messy dessert plate surely means a good time 😍... A must visit place ❤️\n",
      "Aradhya Sharma 4 The taste was really amazing 😍😍 I loved it and my family too I will visit again with my family it's really amazing\n",
      "Akshay( Not Just Food ) 4 Before this pandemic I visited a famous barbecue place that is themis Netaji Subhash Palace. It is a great place when indoor and outdoor seatings. A place with beautiful ambience and tasteful food.  They have a variety of vegetarian and nonvegetarian delicacies. We had vegetarian meal. And we loved it.  One must try.  A pocket friendly place 👍\n",
      "TastyTreats 5 Very decent place to visit with friends and family. Food tastes amazing and the staff is very friendly. The paneer tikka was my favorite. Service was great. The place is worth a try and you would love it.\n",
      "Aarushi Jain 5 The food was totally delicious. I love the desert most and this white chocolate cake was beyond perfect. The brownies were also very yum\n"
     ]
    }
   ],
   "source": [
    "import requests\n",
    "import json\n",
    "data = {\"Accept\": \"application/json\",'user-key' : '4cadd54bed888f1b6934a4eb673b6fb2'}\n",
    "url = 'https://developers.zomato.com/api/v2.1/search'\n",
    "para = {'lat' : 28.697628,'lon': 77.140651, 'cuisines' : 193,'count' : 1,'sort' : 'real_distance','order' : 'asc'}\n",
    "res = requests.get(url,headers = data,params = para)\n",
    "res = res.json()\n",
    "res_id = res['restaurants'][0]['restaurant']['R']['res_id']\n",
    "res = requests.get('https://developers.zomato.com/api/v2.1/reviews',headers = data,params = {'res_id' : res_id})\n",
    "res = res.json()\n",
    "for i in res['user_reviews']:\n",
    "    print( i['review']['user']['name'],i['review']['rating'],i['review']['review_text'])"
   ]
  },
  {
   "cell_type": "markdown",
   "metadata": {},
   "source": [
    "### Experiment with the radius parameter that is present in ‘GET/search’. Fetch the list of top 10 best-restaurant present in a radius of 4 km of coding ninjas.\n",
    "#### Print the restaurant name, user rating, restaurant id and locality in which restaurant is present.\n",
    "#### Output Format:\n",
    "#### name_1 rating_1 id_1 locality_1\n",
    "#### name_2 rating_2 id_2 locality_2\n",
    "#### name_3 rating_3 id_3 locality_3"
   ]
  },
  {
   "cell_type": "code",
   "execution_count": 33,
   "metadata": {},
   "outputs": [
    {
     "name": "stdout",
     "output_type": "stream",
     "text": [
      "Barbeque Kingdom 2.5 18852974 The Grand Venice Mall, Jaypee Greens, Greater Noida\n",
      "Badmash Cafe 2.6 19301185 Mayur Vihar Phase 3\n",
      "Debon 2.8 19040941 Sector 28\n",
      "Kalia Foods 2.9 19156300 Preet Vihar\n",
      "Highway Hunger 3.1 19327334 Pratap Vihar\n",
      "The Q Code Restaurant 3.1 19267509 Laxmi Nagar\n",
      "Al Hamd Kabab & Fry Corner 3.1 19261000 Gamma 1\n",
      "Food Mela 3.1 19337962 Sector 132\n",
      "UBQ by Barbeque Nation 3.2 18889722 Sector 20\n",
      "UBQ by Barbeque Nation 3.2 18890017 Sohna Road\n"
     ]
    }
   ],
   "source": [
    "import requests\n",
    "import json\n",
    "data = {\"Accept\": \"application/json\",'user-key' : '4cadd54bed888f1b6934a4eb673b6fb2'}\n",
    "url = 'https://developers.zomato.com/api/v2.1/search'\n",
    "para = {'lat' : 28.697628,'lon': 77.140651, 'cuisines' : 193,'count' : 10,'radius' : 4000,'sort' : 'rating','order' : 'asc'}\n",
    "res = requests.get(url,headers = data,params = para)\n",
    "res = res.json()\n",
    "for i in res['restaurants']:\n",
    "    print(i['restaurant']['name'],i['restaurant']['user_rating']['aggregate_rating'],i['restaurant']['R']['res_id'],i['restaurant']['location']['locality'])\n",
    "\n"
   ]
  },
  {
   "cell_type": "code",
   "execution_count": null,
   "metadata": {},
   "outputs": [],
   "source": []
  }
 ],
 "metadata": {
  "kernelspec": {
   "display_name": "Python 3",
   "language": "python",
   "name": "python3"
  },
  "language_info": {
   "codemirror_mode": {
    "name": "ipython",
    "version": 3
   },
   "file_extension": ".py",
   "mimetype": "text/x-python",
   "name": "python",
   "nbconvert_exporter": "python",
   "pygments_lexer": "ipython3",
   "version": "3.7.4"
  }
 },
 "nbformat": 4,
 "nbformat_minor": 2
}
